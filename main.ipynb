{
 "cells": [
  {
   "cell_type": "code",
   "execution_count": 20,
   "id": "aad6104f",
   "metadata": {},
   "outputs": [],
   "source": [
    "import torch\n",
    "from torch.utils.data import DataLoader\n",
    "import time\n",
    "import numpy as np\n",
    "import torchvision.models as models\n",
    "import torchvision\n",
    "import copy"
   ]
  },
  {
   "cell_type": "code",
   "execution_count": 11,
   "id": "d6564997",
   "metadata": {},
   "outputs": [
    {
     "data": {
      "text/plain": [
       "True"
      ]
     },
     "execution_count": 11,
     "metadata": {},
     "output_type": "execute_result"
    }
   ],
   "source": [
    "torch.cuda.is_available()"
   ]
  },
  {
   "cell_type": "code",
   "execution_count": 17,
   "id": "31c26720",
   "metadata": {},
   "outputs": [],
   "source": [
    "def get_data():\n",
    "\n",
    "    train = torchvision.datasets.CIFAR100(root=\"./mnt\", train=True, download=True,\n",
    "                                          transform=torchvision.transforms.Compose([\n",
    "                                              torchvision.transforms.ToTensor(), \n",
    "                                              torchvision.transforms.Normalize((0.1307,), (0.3081,))  \n",
    "                                          ]))\n",
    "    train_loader = DataLoader(train, batch_size=batch_size)  \n",
    "\n",
    "    test = torchvision.datasets.CIFAR100(root=\"./mnt\", train=False, download=True,\n",
    "                                         transform=torchvision.transforms.Compose([\n",
    "                                             torchvision.transforms.ToTensor(),  \n",
    "                                             torchvision.transforms.Normalize((0.1307,), (0.3081,))  \n",
    "                                         ]))\n",
    "    test_loader = DataLoader(test, batch_size=batch_size)  \n",
    "\n",
    "    data_loader = {\"train\": train_loader, \"valid\": test_loader}\n",
    "\n",
    "    return data_loader"
   ]
  },
  {
   "cell_type": "code",
   "execution_count": 16,
   "id": "d890d398",
   "metadata": {},
   "outputs": [
    {
     "name": "stderr",
     "output_type": "stream",
     "text": [
      "C:\\Users\\hp\\anaconda3\\envs\\pytorch-gpu\\lib\\site-packages\\torchvision\\models\\_utils.py:208: UserWarning: The parameter 'pretrained' is deprecated since 0.13 and will be removed in 0.15, please use 'weights' instead.\n",
      "  warnings.warn(\n",
      "C:\\Users\\hp\\anaconda3\\envs\\pytorch-gpu\\lib\\site-packages\\torchvision\\models\\_utils.py:223: UserWarning: Arguments other than a weight enum or `None` for 'weights' are deprecated since 0.13 and will be removed in 0.15. The current behavior is equivalent to passing `weights=ResNet152_Weights.IMAGENET1K_V1`. You can also use `weights=ResNet152_Weights.DEFAULT` to get the most up-to-date weights.\n",
      "  warnings.warn(msg)\n",
      "Downloading: \"https://download.pytorch.org/models/resnet152-394f9c45.pth\" to C:\\Users\\hp/.cache\\torch\\hub\\checkpoints\\resnet152-394f9c45.pth\n",
      "10.2%IOPub message rate exceeded.\n",
      "The notebook server will temporarily stop sending output\n",
      "to the client in order to avoid crashing it.\n",
      "To change this limit, set the config variable\n",
      "`--NotebookApp.iopub_msg_rate_limit`.\n",
      "\n",
      "Current values:\n",
      "NotebookApp.iopub_msg_rate_limit=1000.0 (msgs/sec)\n",
      "NotebookApp.rate_limit_window=3.0 (secs)\n",
      "\n",
      "27.8%IOPub message rate exceeded.\n",
      "The notebook server will temporarily stop sending output\n",
      "to the client in order to avoid crashing it.\n",
      "To change this limit, set the config variable\n",
      "`--NotebookApp.iopub_msg_rate_limit`.\n",
      "\n",
      "Current values:\n",
      "NotebookApp.iopub_msg_rate_limit=1000.0 (msgs/sec)\n",
      "NotebookApp.rate_limit_window=3.0 (secs)\n",
      "\n",
      "47.9%IOPub message rate exceeded.\n",
      "The notebook server will temporarily stop sending output\n",
      "to the client in order to avoid crashing it.\n",
      "To change this limit, set the config variable\n",
      "`--NotebookApp.iopub_msg_rate_limit`.\n",
      "\n",
      "Current values:\n",
      "NotebookApp.iopub_msg_rate_limit=1000.0 (msgs/sec)\n",
      "NotebookApp.rate_limit_window=3.0 (secs)\n",
      "\n",
      "70.1%IOPub message rate exceeded.\n",
      "The notebook server will temporarily stop sending output\n",
      "to the client in order to avoid crashing it.\n",
      "To change this limit, set the config variable\n",
      "`--NotebookApp.iopub_msg_rate_limit`.\n",
      "\n",
      "Current values:\n",
      "NotebookApp.iopub_msg_rate_limit=1000.0 (msgs/sec)\n",
      "NotebookApp.rate_limit_window=3.0 (secs)\n",
      "\n",
      "89.9%IOPub message rate exceeded.\n",
      "The notebook server will temporarily stop sending output\n",
      "to the client in order to avoid crashing it.\n",
      "To change this limit, set the config variable\n",
      "`--NotebookApp.iopub_msg_rate_limit`.\n",
      "\n",
      "Current values:\n",
      "NotebookApp.iopub_msg_rate_limit=1000.0 (msgs/sec)\n",
      "NotebookApp.rate_limit_window=3.0 (secs)\n",
      "\n"
     ]
    }
   ],
   "source": [
    "filename = \"checkpoint.pth\"\n",
    "feature_exact = True\n",
    "num_classes = 100\n",
    "batch_size = 1024\n",
    "iteration_num = 10\n",
    "\n",
    "resnet152 = initialize_model(\"resnet\", num_classes, feature_exact)\n",
    "\n",
    "cuda = torch.cuda.is_available()\n",
    "device = torch.device(\"cuda\" if cuda else \"cpu\")\n",
    "if cuda: \n",
    "    print(\"cuda\")\n",
    "    resnet152.cuda()\n",
    "\n",
    "parameters = parameter_to_update(resnet152, feature_exact)\n",
    "\n",
    "optimizer = torch.optim.Adam(parameters, lr = 0.01)\n",
    "scheduler = torch.optim.lr_scheduler.StepLR(optimizer, step_size=10, gamma=0.1)\n",
    "criterion = torch.nn.NLLLoss()"
   ]
  },
  {
   "cell_type": "code",
   "execution_count": 21,
   "id": "de066391",
   "metadata": {},
   "outputs": [
    {
     "name": "stdout",
     "output_type": "stream",
     "text": [
      "Files already downloaded and verified\n",
      "Files already downloaded and verified\n",
      "Epoch 0/9\n",
      "----------\n",
      "Time elapsed 0m 19s\n",
      "train Loss: 7.0091 Acc: 0.1507\n",
      "Time elapsed 0m 22s\n",
      "valid Loss: 3.4727 Acc: 0.2573\n"
     ]
    },
    {
     "name": "stderr",
     "output_type": "stream",
     "text": [
      "C:\\Users\\hp\\anaconda3\\envs\\pytorch-gpu\\lib\\site-packages\\torch\\optim\\lr_scheduler.py:156: UserWarning: The epoch parameter in `scheduler.step()` was not necessary and is being deprecated where possible. Please use `scheduler.step()` to step the scheduler. During the deprecation, if epoch is different from None, the closed form is used instead of the new chainable form, where available. Please open an issue if you are unable to replicate your use case: https://github.com/pytorch/pytorch/issues/new/choose.\n",
      "  warnings.warn(EPOCH_DEPRECATION_WARNING, UserWarning)\n"
     ]
    },
    {
     "name": "stdout",
     "output_type": "stream",
     "text": [
      "Optimizer learning rate: 0.0100000\n",
      "\n",
      "Epoch 1/9\n",
      "----------\n",
      "Time elapsed 0m 35s\n",
      "train Loss: 2.8867 Acc: 0.3147\n",
      "Time elapsed 0m 38s\n",
      "valid Loss: 3.1545 Acc: 0.2739\n",
      "Optimizer learning rate: 0.0100000\n",
      "\n",
      "Epoch 2/9\n",
      "----------\n",
      "Time elapsed 0m 51s\n",
      "train Loss: 2.5833 Acc: 0.3642\n",
      "Time elapsed 0m 54s\n",
      "valid Loss: 3.1878 Acc: 0.2754\n",
      "Optimizer learning rate: 0.0100000\n",
      "\n",
      "Epoch 3/9\n",
      "----------\n",
      "Time elapsed 1m 8s\n",
      "train Loss: 2.3993 Acc: 0.3996\n",
      "Time elapsed 1m 11s\n",
      "valid Loss: 3.2366 Acc: 0.2793\n",
      "Optimizer learning rate: 0.0100000\n",
      "\n",
      "Epoch 4/9\n",
      "----------\n",
      "Time elapsed 1m 24s\n",
      "train Loss: 2.2578 Acc: 0.4302\n",
      "Time elapsed 1m 27s\n",
      "valid Loss: 3.3444 Acc: 0.2723\n",
      "Optimizer learning rate: 0.0100000\n",
      "\n",
      "Epoch 5/9\n",
      "----------\n",
      "Time elapsed 1m 40s\n",
      "train Loss: 2.1561 Acc: 0.4541\n",
      "Time elapsed 1m 43s\n",
      "valid Loss: 3.4106 Acc: 0.2740\n",
      "Optimizer learning rate: 0.0100000\n",
      "\n",
      "Epoch 6/9\n",
      "----------\n",
      "Time elapsed 1m 56s\n",
      "train Loss: 2.0746 Acc: 0.4708\n",
      "Time elapsed 1m 59s\n",
      "valid Loss: 3.5446 Acc: 0.2713\n",
      "Optimizer learning rate: 0.0100000\n",
      "\n",
      "Epoch 7/9\n",
      "----------\n",
      "Time elapsed 2m 12s\n",
      "train Loss: 2.0047 Acc: 0.4856\n",
      "Time elapsed 2m 15s\n",
      "valid Loss: 3.6984 Acc: 0.2617\n",
      "Optimizer learning rate: 0.0100000\n",
      "\n",
      "Epoch 8/9\n",
      "----------\n",
      "Time elapsed 2m 27s\n",
      "train Loss: 1.9944 Acc: 0.4881\n",
      "Time elapsed 2m 30s\n",
      "valid Loss: 3.8069 Acc: 0.2613\n",
      "Optimizer learning rate: 0.0100000\n",
      "\n",
      "Epoch 9/9\n",
      "----------\n",
      "Time elapsed 2m 44s\n",
      "train Loss: 1.9391 Acc: 0.5017\n",
      "Time elapsed 2m 47s\n",
      "valid Loss: 3.9320 Acc: 0.2580\n",
      "Optimizer learning rate: 0.0100000\n",
      "\n",
      "Training complete in 2m 47s\n",
      "Best val Acc: 0.279300\n"
     ]
    }
   ],
   "source": [
    "data_loader = get_data()\n",
    "resnet152, val_acc_history, train_acc_history, valid_losses, train_losses, LRs = train_model(\n",
    "    model=resnet152,\n",
    "    dataloaders=data_loader,\n",
    "    citerion=criterion,\n",
    "    optimizer=optimizer,\n",
    "    num_epochs=iteration_num,\n",
    "    device = device,\n",
    "    filename=filename\n",
    ")\n"
   ]
  },
  {
   "cell_type": "code",
   "execution_count": null,
   "id": "0b8cceb7",
   "metadata": {},
   "outputs": [],
   "source": []
  }
 ],
 "metadata": {
  "kernelspec": {
   "display_name": "Python 3 (ipykernel)",
   "language": "python",
   "name": "python3"
  },
  "language_info": {
   "codemirror_mode": {
    "name": "ipython",
    "version": 3
   },
   "file_extension": ".py",
   "mimetype": "text/x-python",
   "name": "python",
   "nbconvert_exporter": "python",
   "pygments_lexer": "ipython3",
   "version": "3.10.4"
  }
 },
 "nbformat": 4,
 "nbformat_minor": 5
}
